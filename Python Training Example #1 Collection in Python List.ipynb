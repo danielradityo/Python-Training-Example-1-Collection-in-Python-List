{
 "cells": [
  {
   "cell_type": "markdown",
   "metadata": {},
   "source": [
    "# Python Training Example #1 Collection in Python List"
   ]
  },
  {
   "cell_type": "code",
   "execution_count": 3,
   "metadata": {},
   "outputs": [
    {
     "name": "stdout",
     "output_type": "stream",
     "text": [
      "Vincet\n",
      "Mini\n",
      "Jambrong\n",
      "Mini\n"
     ]
    }
   ],
   "source": [
    "# Create a List\n",
    "name_list = ['Vincet', 'Adel', 'Kiky', 'Pandot', 'Depil', 'Mini', 'Jambrong'] # Create list with []\n",
    "print(name_list[0]) #slicing list index 0\n",
    "print(name_list[5]) #slicing list index 5\n",
    "print(name_list[-1]) #slicing list index -1\n",
    "print(name_list[-2]) #slicing list index -2"
   ]
  },
  {
   "cell_type": "code",
   "execution_count": 15,
   "metadata": {},
   "outputs": [
    {
     "name": "stdout",
     "output_type": "stream",
     "text": [
      "['Vincet', 'Adel']\n",
      "['Kiky', 'Pandot', 'Depil']\n",
      "['Mini', 'Jambrong']\n",
      "['Kiky', 'Pandot', 'Depil']\n",
      "['Vincet', 'Kiky', 'Depil', 'Jambrong']\n"
     ]
    }
   ],
   "source": [
    "# Slicing several list\n",
    "print(name_list[0:2]) #slicing list index 0-1\n",
    "print(name_list[2:5]) #slicing list index 2-4\n",
    "print(name_list[5:7]) #slicing list index 5-6\n",
    "print(name_list[-5:-2]) #slicing list index -5 -2\n",
    "print(name_list[0::2]) #slicing list index 0-end with jump 2 pattern"
   ]
  },
  {
   "cell_type": "code",
   "execution_count": 16,
   "metadata": {},
   "outputs": [
    {
     "data": {
      "text/plain": [
       "3"
      ]
     },
     "execution_count": 16,
     "metadata": {},
     "output_type": "execute_result"
    }
   ],
   "source": [
    "# .index() for know what index that parameter\n",
    "name_list.index('Pandot')"
   ]
  },
  {
   "cell_type": "code",
   "execution_count": null,
   "metadata": {},
   "outputs": [],
   "source": []
  }
 ],
 "metadata": {
  "kernelspec": {
   "display_name": "Python 3",
   "language": "python",
   "name": "python3"
  },
  "language_info": {
   "codemirror_mode": {
    "name": "ipython",
    "version": 3
   },
   "file_extension": ".py",
   "mimetype": "text/x-python",
   "name": "python",
   "nbconvert_exporter": "python",
   "pygments_lexer": "ipython3",
   "version": "3.8.5"
  }
 },
 "nbformat": 4,
 "nbformat_minor": 4
}
